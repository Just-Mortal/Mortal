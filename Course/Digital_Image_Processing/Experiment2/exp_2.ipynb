{
 "cells": [
  {
   "cell_type": "markdown",
   "id": "1f2e699a",
   "metadata": {},
   "source": [
    "# Exp 2: Image Intensity Transformations and Spatial Filtering #\n",
    "## 1.\tAims ##\n",
    "\n",
    "#### 1. Learn the method of contrast adjustment and histogram equalization.\n",
    "\n",
    "#### 2. Learn how to display histograms of images.\n",
    "    \n",
    "#### 3. Learn how to perform spatial filtering."
   ]
  },
  {
   "cell_type": "markdown",
   "id": "d631dc34",
   "metadata": {},
   "source": [
    "## 2.\tSteps and Requirements"
   ]
  },
  {
   "cell_type": "markdown",
   "id": "a6763a6c",
   "metadata": {},
   "source": [
    "### (1) Perform Contrast Adjustment.\t\n",
    "(a) Load the image 'beans.png'. \n",
    "\n",
    "(b) Stretch its graysacle to the range of [0,1]. (Tips: ``skimage.exposure.rescale_intensity``) \n",
    "\n",
    "(c) Shrink its grayscale to the range of [0.2,0.8]. (Tips: ``skimage.exposure.rescale_intensity``) \n",
    "\n",
    "(d) Obtain the negative image. (Tips: ``skimage.exposure.rescale_intensity``) \n",
    "\n",
    "(e) Perform log transformation. (Tips: ``skimage.exposure.adjust_log``)  \n",
    "\n",
    "(f) Perform Gamma transformation with $\\gamma=0.5$ and $\\gamma=1.5$, respectively. (Tips: ``skimage.exposure.adjust_gamma``) \n",
    "\n",
    "Display the images with suitable titles. "
   ]
  },
  {
   "cell_type": "code",
   "execution_count": null,
   "id": "5aca64de",
   "metadata": {},
   "outputs": [],
   "source": []
  },
  {
   "cell_type": "markdown",
   "id": "39a36143",
   "metadata": {},
   "source": [
    "### (2) Compute and Display Image Histogram.\t\n",
    "(a) Compute the histogram of the original image and the histograms of the adjusted images above.\n",
    "(<font style=\"color:red;\"> Tips:``Matplotlib.pyplot.hist``or ``skimage.exposure.histogram(image, nbins=256)``</font>) \n",
    "\n",
    "(b) Display the histogram of the original image and the histograms of the adjusted images above. Use a suitlabe title for each figure.\n"
   ]
  },
  {
   "cell_type": "code",
   "execution_count": null,
   "id": "35118cd5",
   "metadata": {},
   "outputs": [],
   "source": []
  },
  {
   "cell_type": "markdown",
   "id": "48a85b4a",
   "metadata": {},
   "source": [
    "### (3) Image Histogram Equalization \t\n",
    "(a) Load the image 'beans.png'.  \n",
    "\n",
    "(b) Perform histogram equalization of the image. (Tips: ``skimage.exposure.equalize_hist``) \n",
    "\n",
    "(c) Display the original image, the equalized image, the histogram of the original image, and the equalized image.  \n",
    "\n",
    "(d) Answer the question: What are their differences?\n"
   ]
  },
  {
   "cell_type": "code",
   "execution_count": null,
   "id": "adf5972b",
   "metadata": {},
   "outputs": [],
   "source": []
  },
  {
   "cell_type": "markdown",
   "id": "2e68ca26",
   "metadata": {},
   "source": [
    "### (4) Smoothing Linear Filtering.\t\n",
    "(a) Load the image 'mandrill.jpg'. \n",
    "\n",
    "(b) Add salt&Pepper noise with different intensities (at least 3 kinds). (Tips: ``skimage.util.random_noise``) \n",
    "\n",
    "(c) Perform smoothing linear filtering to smooth these noised images respectively. (Tips: ``ImageFilter.BLUR``) \n",
    "\n",
    "(d) Display the images in the same figure with sub-figures. Add the corresponding title to each sub-figure."
   ]
  },
  {
   "cell_type": "code",
   "execution_count": null,
   "id": "c09f6c35",
   "metadata": {},
   "outputs": [],
   "source": []
  },
  {
   "cell_type": "markdown",
   "id": "3efb8ff6",
   "metadata": {},
   "source": [
    "### (5) Gaussian Smoothing Filtering.\t\n",
    "(a) Load the image 'mandrill.jpg'. \n",
    "\n",
    "(b) Add Gaussian noise to image. (Tips: ``skimage.util.random_noise``) \n",
    "\n",
    "(c) Perform Gaussian Smoothing Filtering to smooth the noised image. Select kernels with different radius values (at least 3 kinds). (Tips: ``ImageFilter. GaussianBlur``) \n",
    "\n",
    "(d) Display the images in the same figure with sub-figures. Add the corresponding title to each sub-figure."
   ]
  },
  {
   "cell_type": "code",
   "execution_count": null,
   "id": "fbe68042",
   "metadata": {},
   "outputs": [],
   "source": []
  },
  {
   "cell_type": "markdown",
   "id": "5246a124",
   "metadata": {},
   "source": [
    "### (6) Median Filtering.\t\n",
    "(a) Load the image 'mandrill.jpg'. \n",
    "\n",
    "(b) Add salt&Pepper noise with different intensities (at least 3 kinds). (Tips: ``skimage.util.random_noise``) \n",
    "\n",
    "(c) Perform median filtering to smooth these noised images respectively. Select kernels with different radius parameter values (at least 3 kinds). (Tips: ``ImageFilter.MedianFilter``) \n",
    "\n",
    "(d) Display the images in the same figure with sub-figures. Add the corresponding title to the sub-figure."
   ]
  },
  {
   "cell_type": "code",
   "execution_count": null,
   "id": "b72dd3e2",
   "metadata": {},
   "outputs": [],
   "source": []
  },
  {
   "cell_type": "markdown",
   "id": "60f226c4",
   "metadata": {},
   "source": [
    "### (7)\t Sharpening Filtering.\t \n",
    "(a) Load the image 'lena.jpg', convert it to grayscale. \n",
    "\n",
    "(b) Perform sharpening spatial filtering to enhance the image with different parameters (at least 3 kinds). (Tips: ``skimage.filters.laplace``)\n",
    "\n",
    "(c) Display the images in the same figure with sub-figures. Add the corresponding title to the sub-figure."
   ]
  },
  {
   "cell_type": "code",
   "execution_count": null,
   "id": "58394311",
   "metadata": {},
   "outputs": [],
   "source": []
  },
  {
   "cell_type": "markdown",
   "id": "c2f2859a",
   "metadata": {},
   "source": [
    "### (8)\tFace Detection and Processing with OpenCV. (``Bonus Practice``)\n",
    "Load the image 'exp2_7.jpg'. \n",
    "\n",
    "(a) The face region is detected and marked with a <font style=\"color:green;\">green</font></center> rectangle.(Tips: You may use``cv2.CascadeClassifier``, or ``cv2.dnn.readNetFromCaffe``, or [``MTCNN``](https://github.com/timesler/facenet-pytorch))\n",
    "\n",
    "(b) Perform Gaussian smoothing filtering for the background region. Some examples of the generated results are shown in the figure below.\n",
    " \n",
    "![result1](./images/exp2_7_1.png) \n",
    "<center><font style=\"color:red;\">** Figure 1. The result of cv2.CascadeClassifier ** </font></center>\n",
    "\n",
    "![result2](./images/exp2_7_2.png) \n",
    "<center><font style=\"color:red;\">** Figure 2. The result of cv2.dnn.readNetFromCaffe ** </font></center>\n",
    "\n",
    "![result3](./images/exp2_7_3.png) \n",
    "<center><font style=\"color:red;\">** Figure 3. The result of MTCNN ** </font></center>"
   ]
  },
  {
   "cell_type": "code",
   "execution_count": null,
   "id": "6a13470b",
   "metadata": {},
   "outputs": [],
   "source": []
  },
  {
   "cell_type": "markdown",
   "id": "ad103589",
   "metadata": {},
   "source": [
    "### (9)\tFace Detection with Laptop Camera. (``Bonus Practice``)\n",
    "(a) Load video stream from the laptop camera.\n",
    "\n",
    "(b) Use a face detection model to detect images captured by the camera.\n",
    "\n",
    "(c) Mark the face region with a <font style=\"color:green;\">green</font></center> rectangle to achieve real-time detection as good as possible.\n",
    "\n",
    "(d) Perform Gaussian smoothing filtering for the background region."
   ]
  },
  {
   "cell_type": "code",
   "execution_count": null,
   "id": "98983438",
   "metadata": {},
   "outputs": [],
   "source": []
  },
  {
   "cell_type": "markdown",
   "id": "29fdc87b",
   "metadata": {},
   "source": [
    "## 3.\tRequirements of Experiment Report ##\n",
    "#### (1) Use the Jupyter Notebook to write and test codes. \n",
    "#### (2) Display the results in the Jupyter Notebook.\n",
    "#### (3) Sumbit the report according to the template including the corresponding codes and results. \n",
    "#### (4) The report is required to be tidy with clear procedures.\n",
    "#### (5) The codes should be concise and give some necessary comments."
   ]
  }
 ],
 "metadata": {
  "kernelspec": {
   "display_name": "Python 3 (ipykernel)",
   "language": "python",
   "name": "python3"
  },
  "language_info": {
   "codemirror_mode": {
    "name": "ipython",
    "version": 3
   },
   "file_extension": ".py",
   "mimetype": "text/x-python",
   "name": "python",
   "nbconvert_exporter": "python",
   "pygments_lexer": "ipython3",
   "version": "3.9.13"
  }
 },
 "nbformat": 4,
 "nbformat_minor": 5
}
