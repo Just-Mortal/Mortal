{
 "cells": [
  {
   "cell_type": "markdown",
   "id": "5eddb3ea",
   "metadata": {},
   "source": [
    "# Exp 4: Image Compression #\n",
    "## 1.\tAims ##\n",
    "\n",
    "#### 1. Be familiar with some basic image fidelity assessment methods such as MSE, PSNR and SSIM.\n",
    "\n",
    "#### 2. Be familiar with the process of JPEG compression.\n",
    "    \n",
    "#### 3. Be familiar with Discrete Cosine Transform, Huffman Coding, and Predictive Coding."
   ]
  },
  {
   "cell_type": "markdown",
   "id": "9187494b",
   "metadata": {},
   "source": [
    "## 2.\tSteps and Requirements"
   ]
  },
  {
   "cell_type": "markdown",
   "id": "f04df872",
   "metadata": {},
   "source": [
    "### (1) Compression Ratio and Relative Coding Redundancy\n",
    "(a) Load the image bunny.png. Save it as a JPEG image with a quality factor of 90, 60, 10, respectively. Name the images as b90.jpg, b60.jpg, b10.jpg, respectively. \n",
    "\n",
    "(b) Display the original image and the compressed images.\n",
    "\n",
    "(c) Calculate the *Compression Ratio* and *Relative Data Redundancy* between the PNG image and JPEG images according to the file sizes. (Tips: ``os.path.getsize``)"
   ]
  },
  {
   "cell_type": "code",
   "execution_count": null,
   "id": "c2253a1a",
   "metadata": {},
   "outputs": [],
   "source": []
  },
  {
   "cell_type": "markdown",
   "id": "61a239db",
   "metadata": {},
   "source": [
    " ### (2) Fidelity Criteria \n",
    "(a) Load the saved JPEG images. Use functions from ``skimage.metrics`` to calculate MSE, PSNR, and SSIM values between the PNG image and JPEG images. \n",
    "\n",
    "(b) Implement a SSIM function by yourself according to [1].\n",
    "\n",
    "[1] Wang Z, Bovik AC, Sheikh HR, Simoncelli EP. Image quality assessment: from error visibility to structural similarity. IEEE Trans Image Process. 2004 Apr;13(4):600-12."
   ]
  },
  {
   "cell_type": "code",
   "execution_count": null,
   "id": "03be4044",
   "metadata": {},
   "outputs": [],
   "source": []
  },
  {
   "cell_type": "markdown",
   "id": "252ead61",
   "metadata": {},
   "source": [
    "### (3) Simulation of a Part of JPEG Compression\n",
    "(a) Load the grayscale image lenagray.tiff.\n",
    "\n",
    "(b) Shift the pixel intensity by -128. \n",
    "\n",
    "(c) Divide the image into non-overlapped 8$*$8 subimages and perform 8$*$8 block DCT on each subimage. (Tips: ``cv2.dct`` or ``scipy.fftpack.dct``)\n",
    "\n",
    "(d) Use a quantization table with QF=50 for quantization. \n",
    "\n",
    "(e) Perform lossless predictive coding (difference coding) of DC coefficients by using the coefficient in the previous subimage as reference (a raster scan mannar).  \n",
    "\n",
    "(f) Sort 63 AC coefficients in each block in a ZigZag order. Converted them into a one-dimensional vector. \n",
    "\n",
    "(g) Save all the compressed data into a Numpy data format (refered to as NPY/NPZ (.npy or .npz) file)  (Tips: ``np.save`` or ``np.savez``).\n",
    "\n",
    "(h) Compress the npy/npz file to a zip file (refered to as NPZzip). Compress the TIFF image to another zip file (refered to as TIFFzip) (Tips: ``zipfile.Zipfile``, ``zipfile.write``, ``zipfile.close``. For more details please refer to https://docs.python.org/3/library/zipfile.html and https://cloud.tencent.com/developer/article/1431438).\n",
    "\n",
    "(i) Calculate the Compression Ratio between the TIFF image and the NPY/NPZ file according to the file sizes. Calculate the Compression Ratio between the TIFF image and the NPZzip file according to the file sizes. Calculate the Compression Ratio between the TIFFZzip and the NPZzip according to the file sizes.\n",
    "\n",
    "(j) Load the above saved file. Decode it to a recovered image.\n",
    "\n",
    "(k) Compute the MSE and PSNR of the recovered image, and display it with the original image side by side.\n",
    "\n",
    "``quantization_table = np.array([[16, 11, 10, 16, 24, 40, 51, 61],\n",
    "[12, 12,14, 19, 26, 58, 60, 55],\n",
    "[14, 13, 16, 24, 40, 57, 69, 56],\n",
    "[14, 17, 22, 29, 51, 87, 80, 62],\n",
    "[18, 22, 37, 56, 68, 109, 103, 77],\n",
    "[24, 35, 55, 64, 81, 104, 113, 92],\n",
    "[49, 64, 78, 87, 103, 121, 120, 101],\n",
    "[72, 92, 95, 98, 112, 100, 103, 99]], dtype=np.float32)``"
   ]
  },
  {
   "cell_type": "code",
   "execution_count": null,
   "id": "75effaab",
   "metadata": {},
   "outputs": [],
   "source": []
  },
  {
   "cell_type": "markdown",
   "id": "5f5509af",
   "metadata": {},
   "source": [
    "## 3.\tRequirements of Experiment Report ##\n",
    "#### (1) Use the Jupyter Notebook to write and test codes. \n",
    "#### (2) Display the results in the Jupyter Notebook.\n",
    "#### (3) Sumbit the report according to the template including the corresponding codes and results. \n",
    "#### (4) The report is required to be tidy with clear procedures.\n",
    "#### (5) The codes should be concise and give some necessary comments."
   ]
  },
  {
   "cell_type": "code",
   "execution_count": null,
   "id": "7cdd5d65",
   "metadata": {},
   "outputs": [],
   "source": []
  }
 ],
 "metadata": {
  "kernelspec": {
   "display_name": "Python 3 (ipykernel)",
   "language": "python",
   "name": "python3"
  },
  "language_info": {
   "codemirror_mode": {
    "name": "ipython",
    "version": 3
   },
   "file_extension": ".py",
   "mimetype": "text/x-python",
   "name": "python",
   "nbconvert_exporter": "python",
   "pygments_lexer": "ipython3",
   "version": "3.9.13"
  }
 },
 "nbformat": 4,
 "nbformat_minor": 5
}
