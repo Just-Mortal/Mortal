{
 "cells": [
  {
   "cell_type": "markdown",
   "id": "eeb7119c",
   "metadata": {},
   "source": [
    "# Exp 3: Image Processing in Frequency Domain and Image Restoration #\n",
    "## 1.\tAims ##\n",
    "\n",
    "#### 1. Understand the basic principles of Discrete Fourier Transform, and learn how to perform FFT and IFFT with Python.\n",
    "\n",
    "#### 2. Be familiar with the image processing methods in the frequency domain, using Python to perform frequency domain filtering.\n",
    "    \n",
    "#### 3. Master the basic principles of image restoration, and learn some image restoration algorithms in Python"
   ]
  },
  {
   "cell_type": "markdown",
   "id": "278a6ad7",
   "metadata": {},
   "source": [
    "## 2.\tSteps and Requirements"
   ]
  },
  {
   "cell_type": "markdown",
   "id": "42aa3e91",
   "metadata": {},
   "source": [
    "### (1) FFT and IFFT.\t\n",
    "(a) Load the image rhino.jpg, convert it to grayscale.\n",
    "\n",
    "(b) Perform FFT. Shift the DC component to the center, and show the phase angles and the magnitudes.\n",
    "\n",
    "(c) Perform IFFT and show the reconstructed image (Tips: remember to shift the DC component back). \n",
    "\n",
    "(d) Display the images in the same figure with sub-figures. Add the corresponding title to the sub-figures."
   ]
  },
  {
   "cell_type": "code",
   "execution_count": null,
   "id": "8b6bb510",
   "metadata": {},
   "outputs": [],
   "source": []
  },
  {
   "cell_type": "markdown",
   "id": "81055c6d",
   "metadata": {},
   "source": [
    "### (2) Ideal Lowpass Filtering.\t\n",
    "(a) Load the image rhino.jpg. Convert it to grayscale.\n",
    "\n",
    "(b) Perform FFT. \n",
    "\n",
    "(c) Design an ideal lowpass filter.\n",
    "\n",
    "(d) Perform frequency domain filtering with the ideal lowpass filter.\n",
    "\n",
    "(e) Display the original image, the filtered image, the original FFT magnitude, and filtered FFT magnitude in the same figure with sub-figures. Add the corresponding title to the sub-figure. Observe whether there is any ringing artifact in the filtered image. "
   ]
  },
  {
   "cell_type": "code",
   "execution_count": null,
   "id": "d2125f37",
   "metadata": {},
   "outputs": [],
   "source": []
  },
  {
   "cell_type": "markdown",
   "id": "a9a8d621",
   "metadata": {},
   "source": [
    "### (3) Gaussian Lowpass Filter.\t\n",
    "(a) Load the image lena.jpg. Convert it to grayscale.\n",
    "\n",
    "(b) Perform FFT.\n",
    "\n",
    "(c) Perform Gaussian lowpass filtering.\n",
    "\n",
    "(d) Display the original image, the filtered image, the original FFT magnitude, and filtered FFT magnitude in the same figure with sub-figures. Add the corresponding title to the sub-figure. Observe whether there is any ringing artifact in the filtered image. "
   ]
  },
  {
   "cell_type": "code",
   "execution_count": null,
   "id": "9c879824",
   "metadata": {},
   "outputs": [],
   "source": []
  },
  {
   "cell_type": "markdown",
   "id": "edc0a834",
   "metadata": {},
   "source": [
    "### (4) Butterworth Lowpass Filter.\t\n",
    "(a) Load the RGB image lena.jpg.\n",
    "\n",
    "(b) Perform FFT. (Note that when using color images, pay attention to the parameter <font style=\"color:red;\">axes</font> of functions such as fft, ifft, fftshift and ifftshift)\n",
    "\n",
    "(c) Design three Butterworth lowpass filters with different cutoff frequencies $D_0$ and orders $n$ (cut-off frequency $D_0$ and order $n$ are free to choose).\n",
    "\n",
    "(d) Perform frequency domain filtering with the designed Butterworth lowpass filters.\n",
    "\n",
    "(e) Obtain filtered images with IFFT.\n",
    "\n",
    "(f) Display the original image and the filtered images in the same figure with sub-figures. Observe their differences. Add the corresponding title to the sub-figures.\n"
   ]
  },
  {
   "cell_type": "code",
   "execution_count": null,
   "id": "122152c7",
   "metadata": {},
   "outputs": [],
   "source": []
  },
  {
   "cell_type": "markdown",
   "id": "b3090b2c",
   "metadata": {},
   "source": [
    "### (5) Butterworth Highpass Filter.\t\n",
    "(a) Load the RGB image lena.jpg.\n",
    "\n",
    "(b) Perform FFT. (Note that when using color images, pay attention to the parameter <font style=\"color:red;\">axes</font> of functions such as fft, ifft, fftshift and ifftshift)\n",
    "\n",
    "(c) Design three Butterworth highpass filters with different cutoff frequencies $D_0$ and orders $n$ (cut-off frequency $D_0$ and order $n$  are free to choose).\n",
    "\n",
    "(d) Perform frequency domain filtering with the designed Butterworth highpass filters.\n",
    "\n",
    "(e) Obtain filtered images with IFFT.\n",
    "\n",
    "(f) Display the original image and the filtered images in the same figure with sub-figures. Observe their differences. Add the corresponding title to the sub-figures."
   ]
  },
  {
   "cell_type": "code",
   "execution_count": null,
   "id": "ab41ba01",
   "metadata": {},
   "outputs": [],
   "source": []
  },
  {
   "cell_type": "markdown",
   "id": "a892c5be",
   "metadata": {},
   "source": [
    "### (6) Adaptive Median Filter.\t\n",
    "(a) Load the grayscale image noisy_salt_pepper.png. \n",
    "\n",
    "(b) Use ADAPTIVE median filter for denoising (write code based on the implementation principle of adaptive median filter).\n",
    "\n",
    "(c) Display the original image and the filtered images in the same figure with sub-figures. Add the corresponding title to the sub-figures.\n"
   ]
  },
  {
   "cell_type": "code",
   "execution_count": null,
   "id": "cbce53de",
   "metadata": {},
   "outputs": [],
   "source": []
  },
  {
   "cell_type": "markdown",
   "id": "20b3e6ad",
   "metadata": {},
   "source": [
    "### (7) Motion Blur, Inverse filtering and Wiener filtering.\t\n",
    "(a) Load the RGB image lena.jpg.\n",
    "\n",
    "(b) Apply motion blur to it.\n",
    "\n",
    "(c) Recovering images by using inverse filtering and Wiener filtering, respectively. (Note that when using color images, pay attention to the <font style=\"color:red;\">axes</font> parameters of functions such as fft, ifft, fftshift and ifftshift)\n",
    "\n",
    "(d) Add noise to the blurred image, and then use Inverse filtering and Wiener filtering to recovere the image, respectively.\n",
    "\n",
    "(e) Display them in the same figure with sub-figures. Add the corresponding title to the sub-figures."
   ]
  },
  {
   "cell_type": "code",
   "execution_count": null,
   "id": "bbe791db",
   "metadata": {},
   "outputs": [],
   "source": []
  },
  {
   "cell_type": "markdown",
   "id": "8bfbfe27",
   "metadata": {},
   "source": [
    "### (8) Estimating Noise Parameters (Bonus Task)\t\n",
    "(a) Load the grayscale images noisy_1.png and noisy_2.png respectively.\n",
    "\n",
    "(b) Select a smooth region in each image and compute the histogram to estimate the noise distribution. Please specify the noise type.\n",
    "\n",
    "(c) Display the image and the histograms in sub-figures. Add the corresponding title.\n",
    "\n",
    "(d) Use moment estimation to estimate the noise parameters."
   ]
  },
  {
   "cell_type": "code",
   "execution_count": null,
   "id": "0d2203e3",
   "metadata": {},
   "outputs": [],
   "source": []
  },
  {
   "cell_type": "markdown",
   "id": "f1f1133c",
   "metadata": {},
   "source": [
    "## 3.\tRequirements of Experiment Report ##\n",
    "#### (1) Use the Jupyter Notebook to write and test codes. \n",
    "#### (2) Display the results in the Jupyter Notebook.\n",
    "#### (3) Sumbit the report according to the template including the corresponding codes and results. \n",
    "#### (4) The report is required to be tidy with clear procedures.\n",
    "#### (5) The codes should be concise and give some necessary comments."
   ]
  }
 ],
 "metadata": {
  "kernelspec": {
   "display_name": "Python 3 (ipykernel)",
   "language": "python",
   "name": "python3"
  },
  "language_info": {
   "codemirror_mode": {
    "name": "ipython",
    "version": 3
   },
   "file_extension": ".py",
   "mimetype": "text/x-python",
   "name": "python",
   "nbconvert_exporter": "python",
   "pygments_lexer": "ipython3",
   "version": "3.9.13"
  }
 },
 "nbformat": 4,
 "nbformat_minor": 5
}
