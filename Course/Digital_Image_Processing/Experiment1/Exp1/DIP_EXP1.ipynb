{
 "cells": [
  {
   "cell_type": "markdown",
   "id": "71984873",
   "metadata": {},
   "source": [
    "# Exp 1: Basic Operations and Algebraic Operators for Digital Images #\n",
    "## 1.\tAims ##\n",
    "\n",
    "#### 1. Establish a Python environment and install some digital image processing libraries such as scikit-image, OpenCV, PIL, and matplotlib.\n",
    "\n",
    "#### 2. Learn how to load, display, and save images.\n",
    "    \n",
    "#### 3. Be familiar with some basic image processing operations such as adding noise, image type conversion, image file format conversion, etc.\n",
    "\n",
    "#### 4. Learn how to perform algebraic operations on digital images."
   ]
  },
  {
   "cell_type": "markdown",
   "id": "e22e7f3b",
   "metadata": {},
   "source": [
    "## 2.\tSteps and Requirements"
   ]
  },
  {
   "cell_type": "markdown",
   "id": "20fe77e0",
   "metadata": {},
   "source": [
    "### (1) Load, Save and Display Images.\t\n",
    "(a) Load a PNG image (<font style=\"color:red;\">'images/bunny.png'</font>) with Scikit-Image. (<font style=\"color:blue;\">Tips: ``io.imread``</font>) \n",
    "\n",
    "(b) Convert it to PIL image format. (<font style=\"color:blue;\">Tips: ``Image.fromarray``</font>) \n",
    "\n",
    "(c) Display this image with Matplotlib. (<font style=\"color:blue;\">Tips: ``pyplot.imshow``</font>) \n",
    "\n",
    "(d) Convert PIL image format to OpenCV image format, save it as a JPEG image with the quality factor of 90. (<font style=\"color:blue;\">Tips: ``cv2.imwrite``</font>)\n",
    "\n",
    "(e) Load the JPEG image saved above, and save it as a BMP format and a TIFF format image, respectively."
   ]
  },
  {
   "cell_type": "code",
   "execution_count": null,
   "id": "8a260230",
   "metadata": {},
   "outputs": [],
   "source": []
  },
  {
   "cell_type": "markdown",
   "id": "9afe127c",
   "metadata": {},
   "source": [
    "### (2)\tDisplay Three Individual Color Components of RGB Images. \n",
    "(a) Load an image with OpenCV. \n",
    "\n",
    "(b) Display the R, G, and B color component of the image, respectively. Display them in the same figure with sub-figures. Add the corresponding title to the sub-figure. \n",
    "\n",
    "(c) Answer the question: What are the differences between the RGB image and the R/G/B components?"
   ]
  },
  {
   "cell_type": "code",
   "execution_count": null,
   "id": "f5b45d25",
   "metadata": {},
   "outputs": [],
   "source": []
  },
  {
   "cell_type": "markdown",
   "id": "c8da17b4",
   "metadata": {},
   "source": [
    "### (3)\tConvert Color Image to Grayscale. \n",
    "\n",
    "(a) Display the original Lena image and the grayscale images obtained by three grayscaling methods in the same figure. Add the corresponding title. 1)Maximum of the three components; 2) The average of the three components; 3) gray=0.30*r + 0.59*g + 0.11*b.\n",
    "\n",
    "(b) Answer the question: What are their differences?"
   ]
  },
  {
   "cell_type": "code",
   "execution_count": null,
   "id": "a7531d72",
   "metadata": {},
   "outputs": [],
   "source": []
  },
  {
   "cell_type": "markdown",
   "id": "016a2ddb",
   "metadata": {},
   "source": [
    "### (4)\tImage Cropping. \n",
    "\n",
    "(a) Load an RGB image ('images/lena.jpg'). \n",
    "\n",
    "(b) Select the 128x128 central region of the image. \n",
    "\n",
    "(c) Display the full image and its central part. \n",
    "\n",
    "(d) Save the central part as an image file in the same format as the full-size image."
   ]
  },
  {
   "cell_type": "code",
   "execution_count": null,
   "id": "38571983",
   "metadata": {},
   "outputs": [],
   "source": []
  },
  {
   "cell_type": "markdown",
   "id": "f8aefee4",
   "metadata": {},
   "source": [
    "### (5)\tAdding Noise to Image. \n",
    "\n",
    "(a) Load an RGB image with Scikit-Image ('images/lena.jpg').\n",
    "\n",
    "(b) Add 1) Gaussian noise, 2) salt noise, 3) pepper noise, 4) salt&pepper noise, and 5) speckle noise to it. The parameters can be chosen by yourself. (<font style=\"color:blue;\">Tips: You may use ``random_noise`` in the ``util`` module of Scikit-Image</font>)\n",
    "\n",
    "(c) Display these six images (including the original noiseless image) in the same figure and add the corresponding title."
   ]
  },
  {
   "cell_type": "code",
   "execution_count": null,
   "id": "2dd4f51d",
   "metadata": {},
   "outputs": [],
   "source": []
  },
  {
   "cell_type": "markdown",
   "id": "2ca2f92d",
   "metadata": {},
   "source": [
    "### (6)\tImage Denoising by Averaging. \n",
    "\n",
    "(a) Load an RGB image. \n",
    "\n",
    "(b) Add Gaussian noise with a mean value of 0 and a variance of 0.1 to it. \n",
    "\n",
    "(c) Display and compare the images before and after adding noise. \n",
    "\n",
    "(d) Use the ``for`` loop to add 3, 30, and 300 images with random Gaussian noise and find their average value, respectively. \n",
    "\n",
    "(e) Display these averaged images in the same figure. Add corresponding titles, and compare the results."
   ]
  },
  {
   "cell_type": "code",
   "execution_count": null,
   "id": "8eedc77d",
   "metadata": {},
   "outputs": [],
   "source": []
  },
  {
   "cell_type": "markdown",
   "id": "5b1520df",
   "metadata": {},
   "source": [
    "### (7)\tImage Algebraic Operations. \n",
    "\n",
    "(a) Download two pictures by yourself, and load these two pictures with OpenCV. \n",
    "\n",
    "(b) Perform algebraic operations of addition and subtraction (<font style=\"color:blue;\">Tips : Pay attention to the size and type of the image during the calculation. If they are different, the larger image should be cropped or scaled</font>).\n",
    "\n",
    "(c) Display the images before and after processing."
   ]
  },
  {
   "cell_type": "code",
   "execution_count": null,
   "id": "5e0eac32",
   "metadata": {},
   "outputs": [],
   "source": []
  },
  {
   "cell_type": "markdown",
   "id": "001dec40",
   "metadata": {},
   "source": [
    "### (8)\tText adding. \n",
    "\n",
    "(a) Load the Lena image with OpenCV. \n",
    "\n",
    "(b) Employ a red rectangle to mark the 64x64 rectangle in the middle of image. (<font style=\"color:blue;\">Tips: You may use ``cv2.rectangle``</font>) \n",
    "\n",
    "(c) Adding some black text on it. (<font style=\"color:blue;\">Tips: You may use``cv2.putText``</font>). An example of the generated result is shown in the figure below.\n",
    " \n",
    "![lena.jpg](./images/exp1_8.png) \n",
    "<center><font style=\"color:red;\">** Figure 1. The result of adding content to Lean image** </font></center>"
   ]
  },
  {
   "cell_type": "code",
   "execution_count": null,
   "id": "05e95041",
   "metadata": {},
   "outputs": [],
   "source": []
  },
  {
   "cell_type": "markdown",
   "id": "581965f8",
   "metadata": {},
   "source": [
    "### (9)\tAdding image mask. \n",
    "\n",
    "(a) Load the Lena image with OpenCV. \n",
    "\n",
    "(b) Adding a circular mask on the Lena image. (<font style=\"color:blue;\">Tips: You may use``numpy.ogrid``</font>). An example of the generated result is shown in the figure below.\n",
    " \n",
    "![lena.jpg](./images/exp1_9.png) \n",
    "<center><font style=\"color:red;\">** Figure 2. The result of adding binary mask to Lean image** </font></center>"
   ]
  },
  {
   "cell_type": "code",
   "execution_count": null,
   "id": "e4411e3a",
   "metadata": {},
   "outputs": [],
   "source": []
  },
  {
   "cell_type": "markdown",
   "id": "aae5bb07",
   "metadata": {},
   "source": [
    "### (10)\tCapture Images by Laptop Camera with OpenCV. (``Bonus Task``)\n",
    "\n",
    "(a) Read the video stream from the laptop camera.(For more details check [this](http://www.1zlab.com/wiki/python-opencv-tutorial/opencv-read-usb-camera-image/)) \n",
    "\n",
    "(b) Implement Time-lapse photography.(It can be used to record the whole process of the evaporation of water droplets in the cup. <font style=\"color:blue;\"> Tips: You may use``time.sleep``</font>)\n",
    "\n",
    "(c) Generate corresponding MP4 video or GIF image."
   ]
  },
  {
   "cell_type": "code",
   "execution_count": null,
   "id": "2f851c82",
   "metadata": {},
   "outputs": [],
   "source": []
  },
  {
   "cell_type": "markdown",
   "id": "2c5a4c47",
   "metadata": {},
   "source": [
    "## 3.\tRequirements of Experiment Report ##\n",
    "#### (1) Use the Jupyter Notebook to write and test codes. \n",
    "#### (2) Display the results in the Jupyter Notebook.\n",
    "#### (3) Submit the report according to the template including the corresponding codes and results. \n",
    "#### (4) The report is required to be tidy with clear procedures.\n",
    "#### (5) The codes should be concise and give some necessary comments."
   ]
  },
  {
   "cell_type": "code",
   "execution_count": null,
   "id": "90ad01da",
   "metadata": {},
   "outputs": [],
   "source": []
  }
 ],
 "metadata": {
  "kernelspec": {
   "display_name": "Python 3 (ipykernel)",
   "language": "python",
   "name": "python3"
  },
  "language_info": {
   "codemirror_mode": {
    "name": "ipython",
    "version": 3
   },
   "file_extension": ".py",
   "mimetype": "text/x-python",
   "name": "python",
   "nbconvert_exporter": "python",
   "pygments_lexer": "ipython3",
   "version": "3.9.13"
  }
 },
 "nbformat": 4,
 "nbformat_minor": 5
}
