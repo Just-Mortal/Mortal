{
 "cells": [
  {
   "cell_type": "markdown",
   "id": "5eddb3ea",
   "metadata": {},
   "source": [
    "# Exp 5: Integrated Experiment # \n",
    "## 1.\tAims ##\n",
    "\n",
    "#### 1. Be familiar with the operations of morphological image processing. \n",
    "\n",
    "#### 2. Be familiar with the operations of image segmentation.\n",
    "    \n",
    "#### 3. Try to design GUI in Python."
   ]
  },
  {
   "cell_type": "markdown",
   "id": "9187494b",
   "metadata": {},
   "source": [
    "## 2.\tSteps and Requirements"
   ]
  },
  {
   "cell_type": "markdown",
   "id": "f04df872",
   "metadata": {},
   "source": [
    "### (1) Erosion, Dilation, Opening and Closing.\t\n",
    "\n",
    "(a) Load the RGB image clock2.jpg. Convert it to grayscale and then convert it into a binary image using a threshold of 0.5.\n",
    "\n",
    "(b) Use an SE as [1 1 1; 1 1 1; 1 1 1] to obtain the binary morphological erosion, dilation, opening and closing of the binary image. Display them in the same figure with sub-figures. Add the corresponding title to the sub-figure.\n",
    "\n",
    "(c) Use an SE as [1 0 0; 0 1 0; 0 0 1] to obtain the binary morphological erosion, dilation, opening and closing of the binary image. Display them in the same figure with sub-figures. Add the corresponding title to the sub-figure.\n",
    "\n",
    "(d) Load the RGB image zebras.jpg. Convert it to grayscale. \n",
    "\n",
    "(e) Use a 3x3 SE to obtain the grayscale morphological erosion, dilation, opening and closing of grayscale image. Display them in the same figure with sub-figures. Add the corresponding title to the sub-figure.\n",
    "\n",
    "(f) Use a 7x7 SE to obtain the grayscale morphological erosion, dilation, opening and closing of grayscale image. Display them in the same figure with sub-figures. Add the corresponding title to the sub-figure.\n",
    "\n",
    "Hint:``skimage.morphology.binary_erosion``, ``skimage.morphology.binary_dilation``, ``skimage.morphology.binary_opening``, ``skimage.morphology.binary_closing``, ``skimage.morphology.erosion``, ``skimage.morphology.dilation``, ``skimage.morphology.opening`` and ``skimage.morphology.closing``"
   ]
  },
  {
   "cell_type": "code",
   "execution_count": null,
   "id": "d2d4bf9f",
   "metadata": {},
   "outputs": [],
   "source": []
  },
  {
   "cell_type": "markdown",
   "id": "7743f446",
   "metadata": {},
   "source": [
    "### (2) Boundary Extraction and Hole Filling\n",
    "\n",
    "(a) Load the image boundary.tif. Convert it into a binary image.\n",
    "\n",
    "(b) Use a 5x5 SE of 1s to obtain the binary morphological erosion of the binary image.\n",
    "\n",
    "(c) Obtian the boundary of the binary image via performing the difference between the binary image and its erosion image.\n",
    "\n",
    "(d) Load the image holefiling.tif. Convert it into a binary image.\n",
    "\n",
    "(e) Fill the holes in binary objects. (Hine:``scipy.ndimage.binary_fill_holes``)\n",
    "\n",
    "(f) Display them in the same figure with sub-figures. Add the corresponding title to the sub-figure."
   ]
  },
  {
   "cell_type": "code",
   "execution_count": null,
   "id": "c354cc7c",
   "metadata": {},
   "outputs": [],
   "source": []
  },
  {
   "cell_type": "markdown",
   "id": "774f49a7",
   "metadata": {},
   "source": [
    "### (3) Thining and Convex Hull\n",
    "(a) Load the image CT.tif. Convert it into a binary image.\n",
    "\n",
    "(b) Perform morphological thinning of a binary image. (Hint:``skimage.morphology.thin``, set the parameter of max_iter to 5, 50, and none, respectively.</font>)\n",
    "\n",
    "(c) Compute the convex hull image of a binary image. (Hint:``skimage.morphology.convex_hull_image``)\n",
    "\n",
    "(d) Display them in the same figure with sub-figures. Add the corresponding title to the sub-figure."
   ]
  },
  {
   "cell_type": "code",
   "execution_count": null,
   "id": "9542a02f",
   "metadata": {},
   "outputs": [],
   "source": []
  },
  {
   "cell_type": "markdown",
   "id": "046dc0ba",
   "metadata": {},
   "source": [
    "### (4) Top-hat (white top-hat) and Bottom-hat (black top-hat) Transformation\n",
    "\n",
    "(a) Load the grayscale image rice.tif. Convert it into a binary image with a threshold of 0.5.\n",
    "\n",
    "(b) Perform top-hat transformation to the grayscale image. (Hint:``skimage.morphology.white_tophat``, set the parameter of footprint to ``skimage.morphology.square(81)``)\n",
    "\n",
    "(c) Obtain thresholded top-hat image and convert it into a binary image.\n",
    "\n",
    "(d) Perform bottom-hat transformation to the grayscale image. (Hint:``skimage.morphology.black_tophat``, set the parameter of footprint to ``skimage.morphology.square(81)``)\n",
    "\n",
    "(e) Obtain thresholded bottom-hat image and convert it into a binary image.\n",
    "\n",
    "(f) Display them in the same figure with sub-figures. Add the corresponding title to the sub-figure.\n"
   ]
  },
  {
   "cell_type": "code",
   "execution_count": null,
   "id": "4f1c7d0c",
   "metadata": {},
   "outputs": [],
   "source": []
  },
  {
   "cell_type": "markdown",
   "id": "0dfd392a",
   "metadata": {},
   "source": [
    "### (5) Edge Detection\n",
    "(a) Load the image building.tif. \n",
    "\n",
    "(b) Find edges in an image using the Roberts' cross operators, Sobel operators, Prewitt operators, and the Canny algorithm. (Hint:``skimage.filters.roberts``, ``skimage.filters.sobel``,  ``skimage.filters.prewitt``, ``skimage.feature.canny``)\n",
    "\n",
    "(c) Display them in the same figure with sub-figures. Add the corresponding title to the sub-figure."
   ]
  },
  {
   "cell_type": "code",
   "execution_count": null,
   "id": "4db78b73",
   "metadata": {},
   "outputs": [],
   "source": []
  },
  {
   "cell_type": "markdown",
   "id": "fa899ef6",
   "metadata": {},
   "source": [
    "### (6) Edge-Based Segmentation\n",
    "(a) Load the coins image in skimage. (Hint:``skimage.data.coins()``)\n",
    "\n",
    "(b) Use Canny algorithm to obtain the edge image. (Hint:``skimage.feature.canny``, set the parameter of sigma to 3)\n",
    "\n",
    "(c) Fill the holes to obtain the segmented image. (Hint:``scipy.ndimage.binary_fill_holes``)\n",
    "\n",
    "(c) Display the images in the same figure with sub-figures. Add the corresponding title to the sub-figure."
   ]
  },
  {
   "cell_type": "code",
   "execution_count": null,
   "id": "6a516612",
   "metadata": {},
   "outputs": [],
   "source": []
  },
  {
   "cell_type": "markdown",
   "id": "99be8f3f",
   "metadata": {},
   "source": [
    "### (7) Hough transform\n",
    "(a) Load the image triangle_circle.png. Convert it to grayscale.\n",
    "\n",
    "(b) Perform a straight line Hough transform to the grayscale image. (Hint:``skimage.transform.hough_line``)\n",
    "\n",
    "(c) Obtain the peaks in a straight line Hough transform. (Hint:``skimage.transform.hough_line_peaks``)\n",
    "\n",
    "(d) Highlight the detected lines by red color. (Hint:``matplotlib.pyplot.axline``)\n",
    "\n",
    "(e) Display them in the same figure with sub-figures. Add the corresponding title to the sub-figure.\n",
    "\n"
   ]
  },
  {
   "cell_type": "code",
   "execution_count": null,
   "id": "114ecce6",
   "metadata": {},
   "outputs": [],
   "source": []
  },
  {
   "cell_type": "markdown",
   "id": "41870201",
   "metadata": {},
   "source": [
    "### (8) Thresholding-Based Segmentation \n",
    "(a) Load the image shade_text1.tif. \n",
    "\n",
    "(b) Perform automatic image thresholding by Otsu's method to get the threshold value. (Hint:``skimage.filters.threshold_otsu``)\n",
    "\n",
    "(c) Transform the grayscale image into a binary image using the threshold value obtained by Otsu's method.\n",
    "\n",
    "(d) Compute a moving average threshold. (Hint:``cv2.blur``)\n",
    "\n",
    "(e) Obtain the result of local thresholding using moving averages.\n",
    "\n",
    "(f) Display them in the same figure with sub-figures. Add the corresponding title to the sub-figure."
   ]
  },
  {
   "cell_type": "code",
   "execution_count": null,
   "id": "6f7da277",
   "metadata": {},
   "outputs": [],
   "source": []
  },
  {
   "cell_type": "markdown",
   "id": "f7843098",
   "metadata": {},
   "source": [
    "### (9) Image Processing Software with GUI\n",
    "\n",
    "* Use QT or other tools to design an image processing toolbox with GUI. There is no limitation on implementations. \n",
    "\n",
    "* The GUI contain at least one basic image processing function, can it can display the input image and the processed image.\n",
    "\n",
    "* <font color=Blue>Submit a video recording to demonstrate the function of your GUI design in your report.</font>"
   ]
  },
  {
   "cell_type": "code",
   "execution_count": null,
   "id": "ead0abc3",
   "metadata": {},
   "outputs": [],
   "source": []
  },
  {
   "cell_type": "markdown",
   "id": "5f5509af",
   "metadata": {},
   "source": [
    "## 3.\tRequirements of Experiment Report ##\n",
    "#### (1) Use the Jupyter Notebook to write and test codes. \n",
    "#### (2) Display the results in the Jupyter Notebook.\n",
    "#### (3) Sumbit the report according to the template including the corresponding codes and results. \n",
    "#### (4) The report is required to be tidy with clear procedures.\n",
    "#### (5) The codes should be concise and give some necessary comments."
   ]
  }
 ],
 "metadata": {
  "kernelspec": {
   "display_name": "Python 3 (ipykernel)",
   "language": "python",
   "name": "python3"
  },
  "language_info": {
   "codemirror_mode": {
    "name": "ipython",
    "version": 3
   },
   "file_extension": ".py",
   "mimetype": "text/x-python",
   "name": "python",
   "nbconvert_exporter": "python",
   "pygments_lexer": "ipython3",
   "version": "3.9.13"
  }
 },
 "nbformat": 4,
 "nbformat_minor": 5
}
