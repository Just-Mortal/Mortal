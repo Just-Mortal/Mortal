{
 "cells": [
  {
   "cell_type": "markdown",
   "metadata": {},
   "source": [
    "# 说在前面，此文件是我在尝试读取数据的图像和标签\n",
    "\n",
    "# （根据官网的文件解释）。\n",
    "\n",
    "# 还有尝试展示图像，需要转化成 28*28，且需要用灰度映射 \n",
    "\n",
    "# cmap='gray'  # 使用灰度颜色映射"
   ]
  },
  {
   "cell_type": "markdown",
   "metadata": {},
   "source": [
    "单层感知器是一种最简单的神经网络模型，其原理基于神经元的工作方式和感知器的数学模型。以下是单层感知器的基本原理：\n",
    "\n",
    "1. **感知器模型：**\n",
    "   - 单层感知器由输入、权重、激活函数和输出组成。\n",
    "   - 输入是由输入特征构成的向量，每个特征乘以对应的权重。\n",
    "   - 权重表示特征的重要性，通过训练过程动态调整。\n",
    "   - 激活函数将输入的加权和映射到输出，通常使用阶跃函数或符号函数。\n",
    "\n",
    "2. **数学模型：**\n",
    "   - 输入向量：$X = [x_1, x_2, ..., x_n]$\n",
    "   - 权重向量：$W = [w_1, w_2, ..., w_n]$\n",
    "   - 激活函数：$f(z) = \\text{sign}(z)$，其中 $z = \\sum_{i=1}^{n}(x_i \\cdot w_i) + b$，$b$ 是偏置。\n",
    "   - 输出：$y = f(z)$\n",
    "\n",
    "3. **训练过程（学习权重）：**\n",
    "   - 初始化权重和偏置。\n",
    "   - 对于每个训练样本，计算模型的输出。\n",
    "   - 根据实际输出和期望输出之间的误差，调整权重和偏置，以减小误差。\n",
    "   - 重复以上步骤直至达到停止条件（例如，达到最大迭代次数或误差小于某个阈值）。\n",
    "\n",
    "4. **决策边界：**\n",
    "   - 单层感知器在输入空间中找到一个超平面，将不同类别的样本分开。\n",
    "   - 决策边界是由权重和偏置决定的，可以看作是一个线性分类器。\n",
    "\n",
    "5. **局限性：**\n",
    "   - 单层感知器只能解决线性可分问题，即存在一个超平面能够将正类别和负类别完全分开。\n",
    "   - 对于线性不可分问题，单层感知器无法收敛。\n",
    "\n",
    "6. **激活函数的选择：**\n",
    "   - 阶跃函数是最经典的激活函数，但不可导，不适用于梯度下降优化。\n",
    "   - 符号函数是阶跃函数的连续近似，通常用于实现。\n",
    "\n",
    "总体而言，单层感知器是一种简单的线性分类器，其学习过程基于误差的反馈调整权重，目标是找到一个合适的超平面将输入空间中的样本划分为不同的类别。"
   ]
  },
  {
   "cell_type": "markdown",
   "metadata": {},
   "source": [
    "# 1.导入库"
   ]
  },
  {
   "cell_type": "code",
   "execution_count": 15,
   "metadata": {},
   "outputs": [],
   "source": [
    "import numpy as np\n",
    "import matplotlib.pyplot as plt"
   ]
  },
  {
   "cell_type": "markdown",
   "metadata": {},
   "source": [
    "# 2.打开数据集"
   ]
  },
  {
   "cell_type": "code",
   "execution_count": 16,
   "metadata": {},
   "outputs": [],
   "source": [
    "def load_mnist_images(filename):\n",
    "    with open(filename, 'rb') as f:\n",
    "        data = np.fromfile(f, dtype=np.uint8, count=-1)\n",
    "    return data[16:].reshape(-1, 28*28) / 255.0\n",
    "\n",
    "def load_mnist_labels(filename):\n",
    "    with open(filename, 'rb') as f:\n",
    "        data = np.fromfile(f, dtype=np.uint8, count=-1)\n",
    "    return data[8:]\n",
    "\n",
    "# 文件路径\n",
    "train_images_file = 'train_data/train-images.idx3-ubyte'\n",
    "train_labels_file = 'train_data/train-labels.idx1-ubyte'\n",
    "test_images_file = 'test_data/t10k-images.idx3-ubyte'\n",
    "test_labels_file = 'test_data/t10k-labels.idx1-ubyte'\n",
    "\n",
    "X_train = load_mnist_images(train_images_file)\n",
    "Y_train = load_mnist_labels(train_labels_file)\n",
    "\n",
    "X_test = load_mnist_images(test_images_file)\n",
    "Y_test = load_mnist_labels(test_labels_file)"
   ]
  },
  {
   "cell_type": "markdown",
   "metadata": {},
   "source": [
    "### 2.1 定义函数\n",
    "\n",
    "- `f`: 这是通过`open`函数创建的文件对象。\n",
    "- `dtype=np.uint8`: 这指定从文件中读取的数据应该被视为无符号8位整数。换句话说，文件中的每个字节都将被视为一个取值范围从0到255的整数。\n",
    "- `count=-1`: 这个参数表示从文件中读取的项目数（在这种情况下是整数）。当`count`设置为-1时，表示读取直到文件末尾的所有项目。\n",
    "\n",
    "图像集：从第17个字节开始，将数据重新形状为28x28的图像，并将像素值缩放到0到1的范围。\n",
    "\n",
    "标签集：从第9个字节开始，返回标签数据。\n"
   ]
  },
  {
   "cell_type": "markdown",
   "metadata": {},
   "source": [
    "### 2.2 读取数据集"
   ]
  },
  {
   "cell_type": "markdown",
   "metadata": {},
   "source": [
    "### 2.3 检验读取成功"
   ]
  },
  {
   "cell_type": "code",
   "execution_count": 17,
   "metadata": {},
   "outputs": [
    {
     "name": "stdout",
     "output_type": "stream",
     "text": [
      "Train Image Shape: (60000, 784)\n",
      "Train Label Shape: (60000,)\n",
      "Test Image Shape: (10000, 784)\n",
      "Test Label Shape: (10000,)\n"
     ]
    }
   ],
   "source": [
    "print(\"Train Image Shape:\", X_train.shape)\n",
    "print(\"Train Label Shape:\", Y_train.shape)\n",
    "print(\"Test Image Shape:\", X_test.shape)\n",
    "print(\"Test Label Shape:\", Y_test.shape)"
   ]
  },
  {
   "cell_type": "code",
   "execution_count": 18,
   "metadata": {},
   "outputs": [
    {
     "name": "stdout",
     "output_type": "stream",
     "text": [
      "Type of first_image: <class 'numpy.ndarray'>\n",
      "784\n"
     ]
    }
   ],
   "source": [
    "first_image = X_train[0]\n",
    "first_label = Y_train[0]\n",
    "\n",
    "print(\"Type of first_image:\", type(first_image))\n",
    "print(first_image.size)"
   ]
  },
  {
   "cell_type": "markdown",
   "metadata": {},
   "source": [
    "$784 = 28*28$"
   ]
  },
  {
   "cell_type": "code",
   "execution_count": 19,
   "metadata": {},
   "outputs": [
    {
     "data": {
      "image/png": "[encoded data removed]",
      "text/plain": [
       "<Figure size 640x480 with 1 Axes>"
      ]
     },
     "metadata": {},
     "output_type": "display_data"
    }
   ],
   "source": [
    "# 将图像数据还原为28x28的形状\n",
    "image_reshaped = first_image.reshape(28, 28)\n",
    "\n",
    "plt.imshow(image_reshaped, cmap='gray')  # 使用灰度颜色映射\n",
    "plt.title(f\"Label: {first_label}\")\n",
    "plt.show()"
   ]
  },
  {
   "cell_type": "code",
   "execution_count": 20,
   "metadata": {},
   "outputs": [
    {
     "data": {
      "image/png": "[encoded data removed]",
      "text/plain": [
       "<Figure size 640x480 with 1 Axes>"
      ]
     },
     "metadata": {},
     "output_type": "display_data"
    }
   ],
   "source": [
    "plt.imshow(image_reshaped)  # 未使用灰度颜色映射\n",
    "plt.title(f\"Label: {first_label}\")\n",
    "plt.show()"
   ]
  },
  {
   "cell_type": "code",
   "execution_count": 21,
   "metadata": {},
   "outputs": [],
   "source": [
    "# print(image_reshaped)"
   ]
  },
  {
   "cell_type": "markdown",
   "metadata": {},
   "source": [
    "# 3.标签转换\n",
    "\n",
    "数字 6 标签为 1 ，其他数字标签为 -1"
   ]
  },
  {
   "cell_type": "code",
   "execution_count": 22,
   "metadata": {},
   "outputs": [],
   "source": [
    "Y_train_binary = np.zeros_like(Y_train, dtype=np.int8)\n",
    "Y_test_binary = np.zeros_like(Y_test, dtype=np.int8)\n",
    "\n",
    "for i in range(len(Y_train)):\n",
    "    if Y_train[i] == 6:\n",
    "        Y_train_binary[i] = 1\n",
    "    else:\n",
    "        Y_train_binary[i] = -1\n",
    "\n",
    "for i in range(len(Y_test)):\n",
    "    if Y_test[i] == 6:\n",
    "        Y_test_binary[i] = 1\n",
    "    else:\n",
    "        Y_test_binary[i] = -1"
   ]
  },
  {
   "cell_type": "markdown",
   "metadata": {},
   "source": [
    "chatGPT: 可以通过 np 函数实现"
   ]
  },
  {
   "cell_type": "code",
   "execution_count": 23,
   "metadata": {},
   "outputs": [],
   "source": [
    "# 将标签转换为+1和-1\n",
    "# Y_train_binary = np.where(Y_train == 6, 1, -1)\n",
    "# Y_test_binary = np.where(Y_test == 6, 1, -1)"
   ]
  },
  {
   "cell_type": "markdown",
   "metadata": {},
   "source": [
    "# 4.验证集划分"
   ]
  },
  {
   "cell_type": "markdown",
   "metadata": {},
   "source": [
    "### 4.1 定义函数\n",
    "\n",
    "test_size 初始值是 0.2\n",
    "\n",
    "random_state 初始值是 None"
   ]
  },
  {
   "cell_type": "code",
   "execution_count": 24,
   "metadata": {},
   "outputs": [],
   "source": [
    "def split_dataset(X, y, test_size=0.2, random_state=None):\n",
    "    # 获取数据集的长度\n",
    "    data_size = len(X)\n",
    "    \n",
    "    # 根据比例计算验证集的大小\n",
    "    val_size = int(test_size * data_size)\n",
    "    \n",
    "    # 设置随机种子\n",
    "    if random_state is not None:\n",
    "        np.random.seed(random_state)\n",
    "    \n",
    "    # 随机打乱数据集\n",
    "    indices = np.random.permutation(data_size)\n",
    "    \n",
    "    # 划分数据集\n",
    "    val_indices = indices[:val_size]\n",
    "    train_indices = indices[val_size:]\n",
    "    \n",
    "    # 获取划分后的数据\n",
    "    X_train, X_val = X[train_indices], X[val_indices]\n",
    "    y_train, y_val = y[train_indices], y[val_indices]\n",
    "    \n",
    "    return X_train, X_val, y_train, y_val\n"
   ]
  },
  {
   "cell_type": "markdown",
   "metadata": {},
   "source": [
    "1. `def split_dataset(X, y, test_size=0.2, random_state=None):`：定义了一个名为`split_dataset`的函数，它有四个参数：`X`（特征数据集），`y`（标签数据集），`test_size`（验证集的比例，默认为0.2），`random_state`（随机种子，用于保持可重复性，默认为None）。\n",
    "\n",
    "2. `data_size = len(X)`：获取特征数据集`X`的长度，即数据集中样本的数量。\n",
    "\n",
    "3. `val_size = int(test_size * data_size)`：根据指定的验证集比例计算验证集的大小，结果取整。\n",
    "\n",
    "4. `if random_state is not None:`：检查是否提供了随机种子。\n",
    "\n",
    "5. `np.random.seed(random_state)`：如果提供了随机种子，则设置NumPy的随机种子，以便在需要时可以复现相同的随机结果。\n",
    "\n",
    "6. `indices = np.random.permutation(data_size)`：使用NumPy的`permutation`函数对数据集的索引进行随机排列，用于后续的数据集划分。\n",
    "\n",
    "7. `val_indices = indices[:val_size]` 和 `train_indices = indices[val_size:]`：将随机打乱后的索引划分为验证集和训练集的索引。\n",
    "\n",
    "8. `X_train, X_val = X[train_indices], X[val_indices]` 和 `y_train, y_val = y[train_indices], y[val_indices]`：根据划分好的索引，从原始数据集中获取训练集和验证集的特征和标签。\n",
    "\n",
    "9. `return X_train, X_val, y_train, y_val`：返回划分后的训练集和验证集的特征和标签。"
   ]
  },
  {
   "cell_type": "markdown",
   "metadata": {},
   "source": [
    "`indices = np.random.permutation(data_size)` 这行代码得到的结果是一个包含从0到`data_size-1`的随机排列索引的 NumPy 数组。这些索引用于重新排列对应的数据集（特征和标签），从而实现数据集的随机打乱。\n",
    "\n",
    "例如，如果 `data_size` 为100，那么`indices`将是一个包含0到99的整数的随机排列数组。这样，你就可以根据这个数组重新排列原始数据集的相应部分。"
   ]
  },
  {
   "cell_type": "markdown",
   "metadata": {},
   "source": [
    "### 4.2 数据集划分"
   ]
  },
  {
   "cell_type": "code",
   "execution_count": 25,
   "metadata": {},
   "outputs": [],
   "source": [
    "train_feature, verify_feature, train_label, verify_label = \\\n",
    "    split_dataset(X_train, Y_train_binary, test_size=0.2, random_state=42)"
   ]
  },
  {
   "cell_type": "markdown",
   "metadata": {},
   "source": [
    "# 5.初始化感知器"
   ]
  },
  {
   "cell_type": "markdown",
   "metadata": {},
   "source": [
    "### 5.1 定义感知器"
   ]
  },
  {
   "cell_type": "code",
   "execution_count": 26,
   "metadata": {},
   "outputs": [],
   "source": [
    "class SingleLayerPerceptron:\n",
    "    def __init__(self, input_size):\n",
    "        self.weights = np.random.rand(input_size)\n",
    "        self.bias = np.random.rand(1)\n",
    "\n",
    "    def predict(self, x):\n",
    "        return np.sign(np.dot(x, self.weights) + self.bias)\n",
    "\n",
    "    def train(self, x, y, learning_rate=0.01, epochs=50, stopping_threshold=0.01):\n",
    "        errors = []\n",
    "\n",
    "        for epoch in range(epochs):\n",
    "            error = 0\n",
    "            for xi, target in zip(x, y):\n",
    "                update = learning_rate * (target - self.predict(xi))\n",
    "                self.weights += update * xi\n",
    "                self.bias += update\n",
    "                error += int(update.item() != 0.0)\n",
    "\n",
    "            errors.append(error / len(y))\n",
    "\n",
    "            if error / len(y) < stopping_threshold:\n",
    "                break\n",
    "\n",
    "        return errors"
   ]
  },
  {
   "cell_type": "code",
   "execution_count": 27,
   "metadata": {},
   "outputs": [
    {
     "name": "stdout",
     "output_type": "stream",
     "text": [
      "784\n"
     ]
    }
   ],
   "source": [
    "input_size = train_feature.shape[1]             # 48000*784\n",
    "print(input_size)                               # 784\n",
    "perceptron = SingleLayerPerceptron(input_size)  # 784"
   ]
  },
  {
   "cell_type": "code",
   "execution_count": 28,
   "metadata": {},
   "outputs": [
    {
     "name": "stdout",
     "output_type": "stream",
     "text": [
      "(784,)\n",
      "(1,)\n"
     ]
    }
   ],
   "source": [
    "print(perceptron.weights.shape)                 # (784,)\n",
    "print(perceptron.bias.shape)                    # (1,)"
   ]
  }
 ],
 "metadata": {
  "kernelspec": {
   "display_name": "Python 3",
   "language": "python",
   "name": "python3"
  },
  "language_info": {
   "codemirror_mode": {
    "name": "ipython",
    "version": 3
   },
   "file_extension": ".py",
   "mimetype": "text/x-python",
   "name": "python",
   "nbconvert_exporter": "python",
   "pygments_lexer": "ipython3",
   "version": "3.11.4"
  },
  "orig_nbformat": 4
 },
 "nbformat": 4,
 "nbformat_minor": 2
}
